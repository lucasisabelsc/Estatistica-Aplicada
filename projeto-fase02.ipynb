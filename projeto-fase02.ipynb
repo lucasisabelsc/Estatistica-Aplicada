{
 "cells": [
  {
   "cell_type": "markdown",
   "id": "89ef6ce8",
   "metadata": {},
   "source": [
    "# Projeto - FASE 02"
   ]
  },
  {
   "cell_type": "markdown",
   "id": "79ace36d",
   "metadata": {},
   "source": [
    "## Enunciado"
   ]
  },
  {
   "cell_type": "markdown",
   "id": "7848b84c",
   "metadata": {},
   "source": [
    "O que você deve entregar: Um arquivo com a extensão “ipynb” contendo caixas de texto e de código intercaladas, contendo:  \n",
    "\n",
    "1. Cálculo de probabilidades condicionais e incondicionais de pelo menos duas variáveis selecionadas pelo aluno \n",
    "2. Intervalos de confiança e sua interpretação para pelo menos duas variáveis selecionadas pelo aluno \n",
    "3. Testes de hipóteses e sua interpretação para pelo menos duas variáveis selecionadas pelo aluno. As hipóteses devem avaliar se a média populacional da referida variável pode ser considerada igual à média amostral arredondada para o inteiro. \n",
    "4. Análise de Regressão (simples ou múltipla) sobre variáveis que deverão ser escolhidas pelo autor do trabalho. O aluno deve interpretar os coeficientes OU realizar predições com os modelos selecionados, bem como indicar minimamente os diagnósticos realizados. \n",
    "5. Elaboração de três frases (manchetes) de efeito, associadas aos resultados observados. "
   ]
  },
  {
   "cell_type": "markdown",
   "id": "b18c4194",
   "metadata": {},
   "source": [
    "## Leitura dos Arquivos"
   ]
  },
  {
   "cell_type": "markdown",
   "id": "8da97c91",
   "metadata": {},
   "source": [
    "Vamos ler o arquivo com a função `read_csv` da biblioteca Pandas e exibir as cinco primeiras linhas para conhecer o banco de dados"
   ]
  },
  {
   "cell_type": "code",
   "execution_count": 11,
   "id": "c0b722fb",
   "metadata": {},
   "outputs": [
    {
     "data": {
      "text/html": [
       "<div>\n",
       "<style scoped>\n",
       "    .dataframe tbody tr th:only-of-type {\n",
       "        vertical-align: middle;\n",
       "    }\n",
       "\n",
       "    .dataframe tbody tr th {\n",
       "        vertical-align: top;\n",
       "    }\n",
       "\n",
       "    .dataframe thead th {\n",
       "        text-align: right;\n",
       "    }\n",
       "</style>\n",
       "<table border=\"1\" class=\"dataframe\">\n",
       "  <thead>\n",
       "    <tr style=\"text-align: right;\">\n",
       "      <th></th>\n",
       "      <th>id</th>\n",
       "      <th>name</th>\n",
       "      <th>full_name</th>\n",
       "      <th>overall_rating</th>\n",
       "      <th>value_euro</th>\n",
       "      <th>wage_euro</th>\n",
       "      <th>nationality</th>\n",
       "      <th>national_team</th>\n",
       "      <th>club_team</th>\n",
       "      <th>age</th>\n",
       "      <th>height_cm</th>\n",
       "      <th>weight_kgs</th>\n",
       "      <th>international_reputation(1-5)</th>\n",
       "      <th>weak_foot(1-5)</th>\n",
       "      <th>skill_moves(1-5)</th>\n",
       "      <th>club_rating</th>\n",
       "      <th>Goleiro</th>\n",
       "      <th>Zagueiro</th>\n",
       "      <th>Meio</th>\n",
       "      <th>Atacante</th>\n",
       "      <th>crossing</th>\n",
       "      <th>finishing</th>\n",
       "      <th>heading_accuracy</th>\n",
       "      <th>short_passing</th>\n",
       "      <th>dribbling</th>\n",
       "      <th>jumping</th>\n",
       "      <th>strength</th>\n",
       "      <th>long_shots</th>\n",
       "      <th>aggression</th>\n",
       "      <th>GK_reflexes</th>\n",
       "    </tr>\n",
       "  </thead>\n",
       "  <tbody>\n",
       "    <tr>\n",
       "      <th>0</th>\n",
       "      <td>158023</td>\n",
       "      <td>Messi</td>\n",
       "      <td>Lionel Andrés Messi Cuccittini</td>\n",
       "      <td>94</td>\n",
       "      <td>110500000</td>\n",
       "      <td>565000</td>\n",
       "      <td>Argentina</td>\n",
       "      <td>Argentina</td>\n",
       "      <td>FC Barcelona</td>\n",
       "      <td>31</td>\n",
       "      <td>170</td>\n",
       "      <td>72</td>\n",
       "      <td>5</td>\n",
       "      <td>4</td>\n",
       "      <td>4</td>\n",
       "      <td>86</td>\n",
       "      <td>0</td>\n",
       "      <td>0</td>\n",
       "      <td>0</td>\n",
       "      <td>1</td>\n",
       "      <td>86</td>\n",
       "      <td>95</td>\n",
       "      <td>70</td>\n",
       "      <td>92</td>\n",
       "      <td>97</td>\n",
       "      <td>68</td>\n",
       "      <td>66</td>\n",
       "      <td>94</td>\n",
       "      <td>48</td>\n",
       "      <td>8</td>\n",
       "    </tr>\n",
       "    <tr>\n",
       "      <th>1</th>\n",
       "      <td>153079</td>\n",
       "      <td>Aguero</td>\n",
       "      <td>Sergio Leonel Agüero del Castillo</td>\n",
       "      <td>89</td>\n",
       "      <td>64500000</td>\n",
       "      <td>300000</td>\n",
       "      <td>Argentina</td>\n",
       "      <td>Argentina</td>\n",
       "      <td>Manchester City</td>\n",
       "      <td>30</td>\n",
       "      <td>173</td>\n",
       "      <td>70</td>\n",
       "      <td>4</td>\n",
       "      <td>4</td>\n",
       "      <td>4</td>\n",
       "      <td>85</td>\n",
       "      <td>0</td>\n",
       "      <td>0</td>\n",
       "      <td>0</td>\n",
       "      <td>0</td>\n",
       "      <td>70</td>\n",
       "      <td>93</td>\n",
       "      <td>77</td>\n",
       "      <td>81</td>\n",
       "      <td>89</td>\n",
       "      <td>81</td>\n",
       "      <td>73</td>\n",
       "      <td>83</td>\n",
       "      <td>65</td>\n",
       "      <td>14</td>\n",
       "    </tr>\n",
       "    <tr>\n",
       "      <th>2</th>\n",
       "      <td>211110</td>\n",
       "      <td>Dybala</td>\n",
       "      <td>Paulo Bruno Exequiel Dybala</td>\n",
       "      <td>89</td>\n",
       "      <td>89000000</td>\n",
       "      <td>205000</td>\n",
       "      <td>Argentina</td>\n",
       "      <td>Argentina</td>\n",
       "      <td>Juventus</td>\n",
       "      <td>25</td>\n",
       "      <td>152</td>\n",
       "      <td>75</td>\n",
       "      <td>3</td>\n",
       "      <td>3</td>\n",
       "      <td>4</td>\n",
       "      <td>85</td>\n",
       "      <td>0</td>\n",
       "      <td>0</td>\n",
       "      <td>0</td>\n",
       "      <td>1</td>\n",
       "      <td>82</td>\n",
       "      <td>84</td>\n",
       "      <td>68</td>\n",
       "      <td>87</td>\n",
       "      <td>92</td>\n",
       "      <td>75</td>\n",
       "      <td>65</td>\n",
       "      <td>88</td>\n",
       "      <td>48</td>\n",
       "      <td>8</td>\n",
       "    </tr>\n",
       "    <tr>\n",
       "      <th>3</th>\n",
       "      <td>201399</td>\n",
       "      <td>Icardi</td>\n",
       "      <td>Mauro Emanuel Icardi Rivero</td>\n",
       "      <td>87</td>\n",
       "      <td>64500000</td>\n",
       "      <td>130000</td>\n",
       "      <td>Argentina</td>\n",
       "      <td>Argentina</td>\n",
       "      <td>Inter</td>\n",
       "      <td>26</td>\n",
       "      <td>155</td>\n",
       "      <td>75</td>\n",
       "      <td>3</td>\n",
       "      <td>4</td>\n",
       "      <td>3</td>\n",
       "      <td>82</td>\n",
       "      <td>0</td>\n",
       "      <td>0</td>\n",
       "      <td>0</td>\n",
       "      <td>1</td>\n",
       "      <td>46</td>\n",
       "      <td>91</td>\n",
       "      <td>91</td>\n",
       "      <td>73</td>\n",
       "      <td>77</td>\n",
       "      <td>94</td>\n",
       "      <td>76</td>\n",
       "      <td>70</td>\n",
       "      <td>56</td>\n",
       "      <td>9</td>\n",
       "    </tr>\n",
       "    <tr>\n",
       "      <th>4</th>\n",
       "      <td>226226</td>\n",
       "      <td>Lo Celso</td>\n",
       "      <td>Giovani Lo Celso</td>\n",
       "      <td>82</td>\n",
       "      <td>30000000</td>\n",
       "      <td>83000</td>\n",
       "      <td>Argentina</td>\n",
       "      <td>Argentina</td>\n",
       "      <td>Real Betis</td>\n",
       "      <td>22</td>\n",
       "      <td>175</td>\n",
       "      <td>70</td>\n",
       "      <td>1</td>\n",
       "      <td>3</td>\n",
       "      <td>4</td>\n",
       "      <td>80</td>\n",
       "      <td>0</td>\n",
       "      <td>0</td>\n",
       "      <td>0</td>\n",
       "      <td>0</td>\n",
       "      <td>75</td>\n",
       "      <td>77</td>\n",
       "      <td>59</td>\n",
       "      <td>82</td>\n",
       "      <td>84</td>\n",
       "      <td>64</td>\n",
       "      <td>69</td>\n",
       "      <td>76</td>\n",
       "      <td>65</td>\n",
       "      <td>14</td>\n",
       "    </tr>\n",
       "  </tbody>\n",
       "</table>\n",
       "</div>"
      ],
      "text/plain": [
       "       id      name                          full_name  overall_rating  \\\n",
       "0  158023     Messi     Lionel Andrés Messi Cuccittini              94   \n",
       "1  153079    Aguero  Sergio Leonel Agüero del Castillo              89   \n",
       "2  211110    Dybala        Paulo Bruno Exequiel Dybala              89   \n",
       "3  201399    Icardi        Mauro Emanuel Icardi Rivero              87   \n",
       "4  226226  Lo Celso                   Giovani Lo Celso              82   \n",
       "\n",
       "   value_euro  wage_euro nationality national_team        club_team  age  \\\n",
       "0   110500000     565000   Argentina     Argentina     FC Barcelona   31   \n",
       "1    64500000     300000   Argentina     Argentina  Manchester City   30   \n",
       "2    89000000     205000   Argentina     Argentina         Juventus   25   \n",
       "3    64500000     130000   Argentina     Argentina            Inter   26   \n",
       "4    30000000      83000   Argentina     Argentina       Real Betis   22   \n",
       "\n",
       "   height_cm  weight_kgs  international_reputation(1-5)  weak_foot(1-5)  \\\n",
       "0        170          72                              5               4   \n",
       "1        173          70                              4               4   \n",
       "2        152          75                              3               3   \n",
       "3        155          75                              3               4   \n",
       "4        175          70                              1               3   \n",
       "\n",
       "   skill_moves(1-5)  club_rating  Goleiro  Zagueiro  Meio  Atacante  crossing  \\\n",
       "0                 4           86        0         0     0         1        86   \n",
       "1                 4           85        0         0     0         0        70   \n",
       "2                 4           85        0         0     0         1        82   \n",
       "3                 3           82        0         0     0         1        46   \n",
       "4                 4           80        0         0     0         0        75   \n",
       "\n",
       "   finishing  heading_accuracy  short_passing  dribbling  jumping  strength  \\\n",
       "0         95                70             92         97       68        66   \n",
       "1         93                77             81         89       81        73   \n",
       "2         84                68             87         92       75        65   \n",
       "3         91                91             73         77       94        76   \n",
       "4         77                59             82         84       64        69   \n",
       "\n",
       "   long_shots  aggression  GK_reflexes  \n",
       "0          94          48            8  \n",
       "1          83          65           14  \n",
       "2          88          48            8  \n",
       "3          70          56            9  \n",
       "4          76          65           14  "
      ]
     },
     "execution_count": 11,
     "metadata": {},
     "output_type": "execute_result"
    }
   ],
   "source": [
    "import pandas as pd\n",
    "pd.set_option('display.max_columns', None)\n",
    "pd.set_option('display.max_rows', None)\n",
    "pd.set_option('display.width', None)\n",
    "\n",
    "\n",
    "df = pd.read_csv('Anexo_Projeto_fifa_world_national_teams_versão_oficial.csv',encoding='latin1',sep=';')\n",
    "df.head()\n"
   ]
  },
  {
   "cell_type": "markdown",
   "id": "828b3101",
   "metadata": {},
   "source": [
    "## Probabilidades"
   ]
  },
  {
   "cell_type": "markdown",
   "id": "8daf0323",
   "metadata": {},
   "source": [
    "### Probabilidade Incondicional"
   ]
  },
  {
   "cell_type": "markdown",
   "id": "58d13187",
   "metadata": {},
   "source": [
    "Probabilidade incondicional é a chance de ocorrência de um determinado evento, sem levar em conta qualquer outra condição ou informação adicional.\n",
    "Representa simplesmente a frequência relativa do evento dentro do total de casos possíveis.\n",
    "\n",
    "$ P(A) = \\dfrac{\\text{Número de casos favoráveis a A}}{\\text{Número total de casos}} $ "
   ]
  },
  {
   "cell_type": "markdown",
   "id": "cb9c2bd9",
   "metadata": {},
   "source": [
    "#### Probabilidade de um jogador ser da posição Atacante"
   ]
  },
  {
   "cell_type": "markdown",
   "id": "e5516d2d",
   "metadata": {},
   "source": [
    "A probabilidade de um jogador ser atacante é calculada como o número de jogadores cuja variável 'Atacante' é igual a 1, dividido pelo total de jogadores na base de dados."
   ]
  },
  {
   "cell_type": "code",
   "execution_count": 28,
   "id": "c282666f",
   "metadata": {},
   "outputs": [
    {
     "name": "stdout",
     "output_type": "stream",
     "text": [
      "Probabilidade de selecionar um jogador atacante: 10.03%\n"
     ]
    }
   ],
   "source": [
    "p_atacante = (df['Atacante'] == 1).sum() / df.shape[0]\n",
    "print(f'Probabilidade de selecionar um jogador atacante: {p_atacante:.2%}')"
   ]
  },
  {
   "cell_type": "markdown",
   "id": "7b6840a6",
   "metadata": {},
   "source": [
    "Ao calcular a probabilidade incondicional, estamos considerando todos os jogadores da base, sem aplicar nenhum filtro ou condição. Isso responde a perguntas como:\n",
    "- “Qual a chance de, ao escolher um jogador qualquer, ele ser atacante?"
   ]
  },
  {
   "cell_type": "markdown",
   "id": "fbcd5805",
   "metadata": {},
   "source": [
    "### Probabilidade Condicional"
   ]
  },
  {
   "cell_type": "markdown",
   "id": "ec7c15b1",
   "metadata": {},
   "source": [
    "Probabilidade condicional é a chance de um evento ocorrer considerando que outro evento já aconteceu.\n",
    "\n",
    "Ela responde perguntas como:\n",
    "“Qual é a probabilidade de um jogador ser goleiro, dado que ele possui mais de 1,90m de altura?”\n",
    "\n",
    "Ou seja, restringimos nosso universo apenas aos casos em que a condição já é verdadeira (ex.: jogadores com mais de 1,90m)."
   ]
  },
  {
   "cell_type": "markdown",
   "id": "6b656e9c",
   "metadata": {},
   "source": [
    "$ P(A|B) = \\dfrac{P(A \\cap B}{P(B)} $ "
   ]
  },
  {
   "cell_type": "markdown",
   "id": "ebb01381",
   "metadata": {},
   "source": [
    "#### Probabilidade de escolher um goleiro com altura maior que 1.90m"
   ]
  },
  {
   "cell_type": "markdown",
   "id": "9f649b5a",
   "metadata": {},
   "source": [
    "Ao calcular a probabilidade condicional, restringimos nossa análise apenas aos casos em que a condição se verifica (ex.: jogadores com mais de 1,90m). Assim, o denominador não é mais o total de jogadores, mas sim o total de jogadores que atendem à condição."
   ]
  },
  {
   "cell_type": "code",
   "execution_count": 49,
   "id": "7bc0cc4a",
   "metadata": {},
   "outputs": [
    {
     "name": "stdout",
     "output_type": "stream",
     "text": [
      "A probabilidade de um jogador com mais de 1,90m ser goleiro é de: 13.93%\n"
     ]
    }
   ],
   "source": [
    "altura = df['height_cm'] > 190\n",
    "goleiro = df['Goleiro'] == 1\n",
    "\n",
    "goleiros_altos = (df[altura & goleiro])\n",
    "jogadores_altos = (df[altura])\n",
    "\n",
    "p_goleiros_altos = goleiros_altos.shape[0] / jogadores_altos.shape[0]\n",
    "print(f'A probabilidade de um jogador com mais de 1,90m ser goleiro é de: {p_goleiros_altos:.2%}')"
   ]
  },
  {
   "cell_type": "markdown",
   "id": "bf9097e5",
   "metadata": {},
   "source": [
    "## Intervalo de Confiança"
   ]
  },
  {
   "cell_type": "markdown",
   "id": "d8429b23",
   "metadata": {},
   "source": [
    "O Intervalo de Confiança (IC) é uma ferramenta estatística que tem como objetivo estimar, a partir de uma amostra, o valor verdadeiro de um parâmetro da população — geralmente a média.\n",
    "\n",
    "Na prática, quando coletamos dados, normalmente não temos acesso a todos os elementos da população. Por isso, usamos amostras e, consequentemente, precisamos lidar com a incerteza associada a essa coleta."
   ]
  },
  {
   "cell_type": "markdown",
   "id": "db7cf73f",
   "metadata": {},
   "source": [
    "### Por que calcular um Intervalo de Confiança?"
   ]
  },
  {
   "cell_type": "markdown",
   "id": "c16202f8",
   "metadata": {},
   "source": [
    "\n",
    "Ao calcular a média de uma variável em uma amostra (por exemplo, altura dos jogadores de futebol), estamos fazendo uma estimativa da média verdadeira da população.\n",
    "\n",
    "O Intervalo de Confiança permite definir uma faixa de valores onde acreditamos que essa média verdadeira esteja, com um certo nível de confiança — geralmente 95%."
   ]
  },
  {
   "cell_type": "markdown",
   "id": "f2071048",
   "metadata": {},
   "source": [
    "Se considerarmos que o dataset com 718 jogadores representa todos os jogadores do mundo, então a média de altura calculada no dataset é a média real da população.\n",
    "\n",
    "Não há incerteza aqui.\n",
    "\n",
    "Porém, se considerarmos que esses 718 jogadores são uma amostra de todos os jogadores do mundo, então faz todo sentido calcular o Intervalo de Confiança.\n",
    "\n"
   ]
  },
  {
   "cell_type": "markdown",
   "id": "f1125691",
   "metadata": {},
   "source": [
    "### Fórmula\n"
   ]
  },
  {
   "cell_type": "markdown",
   "id": "8ec79fd1",
   "metadata": {},
   "source": [
    "$\n",
    "IC = \\bar{x} \\pm t_{\\alpha/2} \\cdot \\dfrac{s}{\\sqrt{n}}\n",
    "$\n",
    "\n",
    "Onde:\n",
    "- $\\bar x$: Média amostral\n",
    "- $t_{a/2}$: Valor crítico da distribuição\n",
    "- $s$: Desvio padrão da amostra\n",
    "- $n$: Tamanho da amostra"
   ]
  },
  {
   "cell_type": "markdown",
   "id": "61d385a2",
   "metadata": {},
   "source": [
    "### Cálculo de Intervalos de Confiança com StatsModels"
   ]
  },
  {
   "cell_type": "code",
   "execution_count": 54,
   "id": "2249755e",
   "metadata": {},
   "outputs": [
    {
     "name": "stdout",
     "output_type": "stream",
     "text": [
      "IC 95% para Altura: 175.97 cm a 178.07 cm\n",
      "IC 95% para Peso: 77.14 kg a 78.21 kg\n"
     ]
    }
   ],
   "source": [
    "import statsmodels.stats.api as sms\n",
    "\n",
    "altura = df['height_cm'].dropna()\n",
    "ic_altura = sms.DescrStatsW(altura).tconfint_mean()\n",
    "print(f'IC 95% para Altura: {ic_altura[0]:.2f} cm a {ic_altura[1]:.2f} cm')\n",
    "\n",
    "peso = df['weight_kgs'].dropna()\n",
    "ic_peso = sms.DescrStatsW(peso).tconfint_mean()\n",
    "print(f'IC 95% para Peso: {ic_peso[0]:.2f} kg a {ic_peso[1]:.2f} kg')"
   ]
  },
  {
   "cell_type": "markdown",
   "id": "2f0b67de",
   "metadata": {},
   "source": [
    "### Interpretando o StatsModels"
   ]
  },
  {
   "cell_type": "markdown",
   "id": "bc88f3b6",
   "metadata": {},
   "source": [
    "**Altura:** Estamos 95% confiantes de que a média de altura da população de jogadores profissionais do mundo está entre 175,97 cm e 178,07 cm, com base nos dados da nossa amostra.\n",
    "\n",
    "**Peso:** Estamos 95% confiantes de que a média de peso da população de jogadores profissionais do mundo está entre 77,14kg e 78,21kg, com base nos dados da nossa amostra."
   ]
  },
  {
   "cell_type": "markdown",
   "id": "44aef788",
   "metadata": {},
   "source": [
    "## Teste de Hipótese"
   ]
  },
  {
   "cell_type": "markdown",
   "id": "e356ddfb",
   "metadata": {},
   "source": [
    "O Teste de Hipótese é uma ferramenta estatística que usamos para tomar decisões sobre uma população, com base em uma amostra. Ele responde perguntas como:\n",
    "- “A média da altura dos jogadores pode ser considerada igual a 180 cm?”\n",
    "- “A média do overall rating pode ser considerada igual a 75?”\n",
    "\n",
    "O **Teste de Hipóteses** é uma técnica estatística utilizada para verificar se uma afirmação sobre uma população pode ser aceita ou rejeitada, com base nos dados de uma amostra. O objetivo é tomar uma decisão sobre um parâmetro populacional (geralmente a média), a partir da evidência fornecida pelos dados."
   ]
  },
  {
   "cell_type": "markdown",
   "id": "d81b5969",
   "metadata": {},
   "source": [
    "### Hipótese Nula e Alternativa"
   ]
  },
  {
   "cell_type": "markdown",
   "id": "53434fb3",
   "metadata": {},
   "source": [
    "O teste é composto por duas hipóteses:\n",
    "\n",
    "- **Hipótese Nula (H₀)** → É a afirmação de que **não existe diferença** ou que a média populacional **é igual a um valor específico**.\n",
    "- **Hipótese Alternativa (H₁)** → É a afirmação contrária, de que **existe diferença**, ou seja, a média populacional **não é igual** ao valor testado."
   ]
  },
  {
   "cell_type": "markdown",
   "id": "e5fe42f8",
   "metadata": {},
   "source": [
    "### Como tomar a decisão?"
   ]
  },
  {
   "cell_type": "markdown",
   "id": "f0152b77",
   "metadata": {},
   "source": [
    "O teste gera dois valores principais:\n",
    "\n",
    "- **t-statistic** → Estatística do teste (quanto a média amostral difere da média hipotética, em unidades de erro padrão).\n",
    "- **p-valor** → Probabilidade de obtermos um resultado tão extremo quanto o observado, assumindo que a hipótese nula é verdadeira.\n",
    "\n",
    "Após obter o valor-p, basta usar a regra abaixo:\n",
    "\n",
    "- Se **p-valor < 0.05** → **Rejeitamos H₀**. Há evidências de que a média é diferente do valor testado.\n",
    "- Se **p-valor ≥ 0.05** → **Não rejeitamos H₀**. Não há evidências suficientes para afirmar que a média é diferente.\n",
    "\n",
    "_Usamos 5% como valor padrão de mercado_"
   ]
  },
  {
   "cell_type": "markdown",
   "id": "ad8801ea",
   "metadata": {},
   "source": [
    "### Teste de Hipótese para a Altura"
   ]
  },
  {
   "cell_type": "markdown",
   "id": "74b06a76",
   "metadata": {},
   "source": [
    "Vamos testar se a média populacional de altura pode ser considerada igual a 175 cm.\n",
    "\n",
    "**Levantamento de Hipóteses**\n",
    "- H0: altura = 175\n",
    "- H1: altura $\\neq$ 175\n",
    "\n",
    "**Aplicar o Teste T:** Vamos aplicar o Teste T à nossa amostra e encontrar o P-Valor\n",
    "\n",
    "**Comparar com $\\alpha = 5\\%$:** Vamos comparar com o valor padrão de mercado para definir se rejeitamos ou não H0"
   ]
  },
  {
   "cell_type": "code",
   "execution_count": 92,
   "id": "cb7da5ce",
   "metadata": {},
   "outputs": [
    {
     "name": "stdout",
     "output_type": "stream",
     "text": [
      "P-valor: 96.4665%\n",
      "Não rejeitamos H0: Não há evidências suficientes para dizer que a média é diferente de 177.\n",
      "Média real da amostra: 177.02 cm\n"
     ]
    }
   ],
   "source": [
    "from scipy.stats import ttest_1samp\n",
    "\n",
    "altura = df['height_cm'].dropna()\n",
    "\n",
    "media_altura = round(altura.mean())\n",
    "\n",
    "t_stat, p_value = ttest_1samp(altura, popmean=media_altura)\n",
    "\n",
    "print(f'P-valor: {p_value*100:.4f}%')\n",
    "\n",
    "if p_value < 0.05:\n",
    "    conclusao = f'Rejeitamos H0: Há fortes evidências de que a média é diferente de {media_altura}.'\n",
    "else:\n",
    "    conclusao = f'Não rejeitamos H0: Não há evidências suficientes para dizer que a média é diferente de {media_altura}.'\n",
    "\n",
    "print(conclusao)\n",
    "print(f'Média real da amostra: {df['height_cm'].mean():.2f} cm')"
   ]
  },
  {
   "cell_type": "markdown",
   "id": "885304f8",
   "metadata": {},
   "source": [
    "### Teste de Hipótese para o Peso"
   ]
  },
  {
   "cell_type": "markdown",
   "id": "69643f30",
   "metadata": {},
   "source": [
    "Vamos testar se a média de peso dos jogadores pode ser considerada maior que 80kg\n",
    "\n",
    "**Levantamento de Hipóteses**\n",
    "- H0: peso = 80\n",
    "- H1: peso $\\neq$ 80\n",
    "\n",
    "**Aplicar o Teste T:** Vamos aplicar o Teste T à nossa amostra e encontrar o P-Valor\n",
    "\n",
    "**Comparar com $\\alpha = 5\\%$:** Vamos comparar com o valor padrão de mercado para definir se rejeitamos ou não H0"
   ]
  },
  {
   "cell_type": "code",
   "execution_count": 89,
   "id": "ecdcc500",
   "metadata": {},
   "outputs": [
    {
     "name": "stdout",
     "output_type": "stream",
     "text": [
      "Média amostral arredondada do peso: 78 kg\n",
      "P-valor: 23.1904%\n",
      "Não rejeitamos H0: Não há evidências suficientes para dizer que a média é diferente de 78 kg.\n",
      "Média real da amostra: 77.67 kg\n"
     ]
    }
   ],
   "source": [
    "from scipy.stats import ttest_1samp\n",
    "\n",
    "peso = df['weight_kgs'].dropna()\n",
    "\n",
    "media_peso = round(peso.mean())\n",
    "print(f'Média amostral arredondada do peso: {media_peso} kg')\n",
    "\n",
    "t_stat, p_value = ttest_1samp(peso, popmean=media_peso)\n",
    "\n",
    "print(f'P-valor: {p_value*100:.4f}%')\n",
    "\n",
    "if p_value < 0.05:\n",
    "    conclusao = f'Rejeitamos H0: Há fortes evidências de que a média é diferente de {media_peso} kg.'\n",
    "else:\n",
    "    conclusao = f'Não rejeitamos H0: Não há evidências suficientes para dizer que a média é diferente de {media_peso} kg.'\n",
    "\n",
    "print(conclusao)\n",
    "print(f'Média real da amostra: {df['weight_kgs'].mean():.2f} kg')"
   ]
  }
 ],
 "metadata": {
  "kernelspec": {
   "display_name": "meu_env",
   "language": "python",
   "name": "python3"
  },
  "language_info": {
   "codemirror_mode": {
    "name": "ipython",
    "version": 3
   },
   "file_extension": ".py",
   "mimetype": "text/x-python",
   "name": "python",
   "nbconvert_exporter": "python",
   "pygments_lexer": "ipython3",
   "version": "3.12.6"
  }
 },
 "nbformat": 4,
 "nbformat_minor": 5
}
